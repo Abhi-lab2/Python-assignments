{
  "nbformat": 4,
  "nbformat_minor": 0,
  "metadata": {
    "colab": {
      "name": "Day 7 Assignment.ipynb",
      "provenance": []
    },
    "kernelspec": {
      "name": "python3",
      "display_name": "Python 3"
    }
  },
  "cells": [
    {
      "cell_type": "markdown",
      "metadata": {
        "id": "XU22Yk7c49Bt",
        "colab_type": "text"
      },
      "source": [
        ""
      ]
    },
    {
      "cell_type": "code",
      "metadata": {
        "id": "v4p08VFp4Tv7",
        "colab_type": "code",
        "colab": {}
      },
      "source": [
        "# Day 7 Assignment"
      ],
      "execution_count": 2,
      "outputs": []
    },
    {
      "cell_type": "code",
      "metadata": {
        "id": "RqjLFmVG5MMY",
        "colab_type": "code",
        "colab": {
          "base_uri": "https://localhost:8080/",
          "height": 34
        },
        "outputId": "82d107fc-ad09-4918-f08e-1ebed1a2e7ec"
      },
      "source": [
        "# Q.1\n",
        "port1 = {21:\"FTP\",22:\"SSH\",23:\"telnet\",80:\"http\"}\n",
        "port2 = {}\n",
        "for k,v in port1.items():\n",
        "    port2[v] = k\n",
        "print(port2)"
      ],
      "execution_count": 3,
      "outputs": [
        {
          "output_type": "stream",
          "text": [
            "{'FTP': 21, 'SSH': 22, 'telnet': 23, 'http': 80}\n"
          ],
          "name": "stdout"
        }
      ]
    },
    {
      "cell_type": "code",
      "metadata": {
        "id": "DXAxF5fi5MO3",
        "colab_type": "code",
        "colab": {
          "base_uri": "https://localhost:8080/",
          "height": 34
        },
        "outputId": "7a6f7a09-feba-45af-d0a5-579aa56f3ffc"
      },
      "source": [
        "# Q.2\n",
        "list1 = [(1,2),(3,4),(5,6),(4,5)]\n",
        "\n",
        "list2 = []\n",
        "\n",
        "for i in list1:\n",
        "    list2.append(i[0]+i[1])\n",
        "\n",
        "print(list2)"
      ],
      "execution_count": 4,
      "outputs": [
        {
          "output_type": "stream",
          "text": [
            "[3, 7, 11, 9]\n"
          ],
          "name": "stdout"
        }
      ]
    },
    {
      "cell_type": "code",
      "metadata": {
        "id": "Lkh9vlxR5XvB",
        "colab_type": "code",
        "colab": {
          "base_uri": "https://localhost:8080/",
          "height": 34
        },
        "outputId": "07591198-f091-48e2-9c3b-50c9936d4a48"
      },
      "source": [
        "list1 = [(1,2,3),[1,2],['a','hit','less']]\n",
        "\n",
        "list2 = []\n",
        "\n",
        "for i in list1:\n",
        "    list2.extend(i)\n",
        "\n",
        "print(list2)"
      ],
      "execution_count": 5,
      "outputs": [
        {
          "output_type": "stream",
          "text": [
            "[1, 2, 3, 1, 2, 'a', 'hit', 'less']\n"
          ],
          "name": "stdout"
        }
      ]
    },
    {
      "cell_type": "code",
      "metadata": {
        "id": "jcsQuIA56Tq0",
        "colab_type": "code",
        "colab": {}
      },
      "source": [
        ""
      ],
      "execution_count": null,
      "outputs": []
    }
  ]
}