{
 "cells": [
  {
   "cell_type": "markdown",
   "metadata": {},
   "source": [
    "# Day 5 Letsupgrade Assignment"
   ]
  },
  {
   "cell_type": "markdown",
   "metadata": {},
   "source": [
    "#### Q.1)"
   ]
  },
  {
   "cell_type": "code",
   "execution_count": 2,
   "metadata": {},
   "outputs": [
    {
     "name": "stdout",
     "output_type": "stream",
     "text": [
      "[1, 1, 1, 2, 2, 3, 4, 4, 10, 56, 56, 0, 0, 0, 0, 0]\n"
     ]
    }
   ],
   "source": [
    "list1 = [0,1,2,10,4,1,0,56,2,0,1,3,0,56,0,4]\n",
    "m = max(list1)\n",
    "\n",
    "def fun(x):\n",
    "    if(x == 0):\n",
    "        return m+1\n",
    "    return x\n",
    "\n",
    "list1.sort(key = fun)\n",
    "print(list1)"
   ]
  },
  {
   "cell_type": "markdown",
   "metadata": {},
   "source": [
    "#### Q.2)"
   ]
  },
  {
   "cell_type": "code",
   "execution_count": 4,
   "metadata": {},
   "outputs": [
    {
     "name": "stdout",
     "output_type": "stream",
     "text": [
      "The final sorted list is [5, 10, 15, 20, 25, 35, 40, 45, 60, 60, 70, 80]\n"
     ]
    }
   ],
   "source": [
    "list1 = [10,20,40,60,70,80]\n",
    "list2 = [5,15,25,35,45,60]\n",
    "\n",
    "list3 = []\n",
    "\n",
    "len1 = len(list1)\n",
    "len2 = len(list2)\n",
    "\n",
    "i = 0\n",
    "j = 0\n",
    "\n",
    "while(i < len1 and j < len2):\n",
    "    if(list1[i] < list2[j]):\n",
    "        list3.append(list1[i])\n",
    "        i = i + 1\n",
    "    else:\n",
    "        list3.append(list2[j])\n",
    "        j = j + 1\n",
    "\n",
    "if(i != len1):\n",
    "    while(i < len1):\n",
    "        list3.append(list1[i])\n",
    "        i += 1\n",
    "\n",
    "if(j != len2):\n",
    "    while(j < len2):\n",
    "        list3.append(list2[j])\n",
    "        j += 1\n",
    "\n",
    "print(\"The final sorted list is\",list3) "
   ]
  },
  {
   "cell_type": "code",
   "execution_count": null,
   "metadata": {},
   "outputs": [],
   "source": []
  },
  {
   "cell_type": "code",
   "execution_count": null,
   "metadata": {},
   "outputs": [],
   "source": []
  }
 ],
 "metadata": {
  "kernelspec": {
   "display_name": "Python 3",
   "language": "python",
   "name": "python3"
  },
  "language_info": {
   "codemirror_mode": {
    "name": "ipython",
    "version": 3
   },
   "file_extension": ".py",
   "mimetype": "text/x-python",
   "name": "python",
   "nbconvert_exporter": "python",
   "pygments_lexer": "ipython3",
   "version": "3.7.4"
  }
 },
 "nbformat": 4,
 "nbformat_minor": 4
}
